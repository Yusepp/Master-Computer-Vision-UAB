{
 "cells": [
  {
   "cell_type": "markdown",
   "metadata": {},
   "source": [
    "Group 2 Members: Marcos Conde, Jose Manuel Lopez Camuñas, Alex Martin Martinez"
   ]
  },
  {
   "cell_type": "code",
   "execution_count": 1,
   "metadata": {},
   "outputs": [
    {
     "name": "stdout",
     "output_type": "stream",
     "text": [
      "Requirement already satisfied: tqdm in c:\\users\\yusep\\anaconda3\\lib\\site-packages (4.62.3)\n",
      "Requirement already satisfied: colorama in c:\\users\\yusep\\anaconda3\\lib\\site-packages (from tqdm) (0.4.4)\n"
     ]
    }
   ],
   "source": [
    "!pip install tqdm"
   ]
  },
  {
   "cell_type": "code",
   "execution_count": 2,
   "metadata": {},
   "outputs": [],
   "source": [
    "import cv2\n",
    "import numpy as np\n",
    "import pickle\n",
    "import os\n",
    "import warnings\n",
    "import pandas as pd\n",
    "from tqdm import tqdm\n",
    "from sklearn.cluster import MiniBatchKMeans\n",
    "from sklearn.neighbors import KNeighborsClassifier\n",
    "from sklearn.decomposition import PCA\n",
    "from sklearn.model_selection import cross_val_score, KFold\n",
    "from sklearn.discriminant_analysis import LinearDiscriminantAnalysis\n",
    "\n",
    "warnings.filterwarnings('ignore')"
   ]
  },
  {
   "cell_type": "markdown",
   "metadata": {},
   "source": [
    "Let us first read the train and test files"
   ]
  },
  {
   "cell_type": "code",
   "execution_count": 3,
   "metadata": {},
   "outputs": [],
   "source": [
    "train_images_filenames = pickle.load(open('train_images_filenames.dat','rb'))\n",
    "test_images_filenames = pickle.load(open('test_images_filenames.dat','rb'))\n",
    "train_images_filenames = ['..' + n[15:] for n in train_images_filenames]\n",
    "test_images_filenames  = ['..' + n[15:] for n in test_images_filenames]\n",
    "\n",
    "train_labels = pickle.load(open('train_labels.dat','rb'))\n",
    "test_labels = pickle.load(open('test_labels.dat','rb'))"
   ]
  },
  {
   "cell_type": "markdown",
   "metadata": {},
   "source": [
    "We create a SIFT object detector and descriptor. We compute the SIFT descriptors for all the train images and subsequently build a numpy array with all the descriptors stacked together."
   ]
  },
  {
   "cell_type": "code",
   "execution_count": 4,
   "metadata": {},
   "outputs": [],
   "source": [
    "detector = cv2.KAZE_create(threshold=0.0001)\n",
    "\n",
    "def get_SIFT_descriptors(detector, x, y):\n",
    "    descriptors = []\n",
    "    label_per_descriptor = []\n",
    "\n",
    "    for filename, labels in zip(x,y):\n",
    "        ima = cv2.imread(filename)\n",
    "        gray = cv2.cvtColor(ima, cv2.COLOR_BGR2GRAY)\n",
    "        kpt, des = detector.detectAndCompute(gray, None)\n",
    "        descriptors.append(des)\n",
    "        label_per_descriptor.append(labels)\n",
    "\n",
    "    descriptors_np = np.vstack(descriptors)\n",
    "\n",
    "    return descriptors_np, descriptors, label_per_descriptor\n",
    "\n",
    "train_descriptors_np, train_descriptors, train_label_per_descriptor = get_SIFT_descriptors(detector, train_images_filenames, train_labels)\n",
    "test_descriptors_np, test_descriptors, test_label_per_descriptor = get_SIFT_descriptors(detector, test_images_filenames, test_labels)"
   ]
  },
  {
   "cell_type": "markdown",
   "metadata": {},
   "source": [
    "We now compute a k-means clustering on the descriptor space and, for each train image, we project each keypoint descriptor to its closest visual word. We represent each of the images with the frequency of each visual word."
   ]
  },
  {
   "cell_type": "code",
   "execution_count": 5,
   "metadata": {},
   "outputs": [],
   "source": [
    "k = 128\n",
    "codebook = MiniBatchKMeans(n_clusters=k, verbose=False, batch_size=k * 20,compute_labels=False,reassignment_ratio=10**-4,random_state=42)\n",
    "\n",
    "def get_visual_words(descriptors,descriptors_np,codebook,k,test=False):\n",
    "    \n",
    "    if not test:\n",
    "        codebook.fit(descriptors_np)\n",
    "        \n",
    "    visual_words = np.zeros((len(descriptors), k), dtype=np.float32)\n",
    "    \n",
    "    for i in range(len(descriptors)):\n",
    "        words = codebook.predict(descriptors[i])\n",
    "        visual_words[i,:] = np.bincount(words, minlength=k)\n",
    "    \n",
    "    return words, visual_words\n",
    "\n",
    "words_train, visual_words_train = get_visual_words(train_descriptors,train_descriptors_np,codebook,k)\n",
    "words_test, visual_words_test = get_visual_words(test_descriptors,test_descriptors_np,codebook,k,test=True)"
   ]
  },
  {
   "cell_type": "code",
   "execution_count": 6,
   "metadata": {},
   "outputs": [],
   "source": [
    "a = np.array([1,2,3,4,5])\n",
    "b = np.array([6,7,8,9,10])\n",
    "\n"
   ]
  },
  {
   "cell_type": "markdown",
   "metadata": {},
   "source": [
    " We build a k-nn classifier, train it with the train descriptors and computing the test descriptors and compute the accuracy of the model"
   ]
  },
  {
   "cell_type": "code",
   "execution_count": 7,
   "metadata": {},
   "outputs": [
    {
     "data": {
      "text/plain": [
       "57.42049530511069"
      ]
     },
     "execution_count": 7,
     "metadata": {},
     "output_type": "execute_result"
    }
   ],
   "source": [
    "def evaluate_knn(visual_words_train, visual_words_test,n_neighbors=5, metric='euclidean', cross_val = True):\n",
    "    if not cross_val:\n",
    "        knn = KNeighborsClassifier(n_neighbors=n_neighbors,n_jobs=-1,metric=metric)\n",
    "        knn.fit(visual_words_train, train_labels) \n",
    "        accuracy = 100*knn.score(visual_words_test, test_labels)\n",
    "        return accuracy\n",
    "    \n",
    "    kf = KFold(n_splits=5, random_state=42, shuffle=True)\n",
    "    accuracy = 0\n",
    "    \n",
    "    for train_index, test_index in kf.split(visual_words_train):\n",
    "        X_train, X_test = visual_words_train[train_index], visual_words_train[test_index]\n",
    "        y_train, y_test = np.array(train_labels)[train_index.astype(int)], np.array(train_labels)[test_index.astype(int)]\n",
    "        \n",
    "        X_test, y_test = np.concatenate((X_test,visual_words_test)), np.concatenate((y_test,test_labels))\n",
    "        \n",
    "        knn = KNeighborsClassifier(n_neighbors=n_neighbors,n_jobs=-1,metric=metric)\n",
    "        knn.fit(X_train, y_train)\n",
    "        \n",
    "        accuracy += 100*knn.score(X_test, y_test)\n",
    "    \n",
    "    return accuracy/5\n",
    "        \n",
    "        \n",
    "evaluate_knn(visual_words_train, visual_words_test, n_neighbors=5, metric='euclidean')"
   ]
  },
  {
   "cell_type": "markdown",
   "metadata": {},
   "source": [
    "Dimensionality reduction, with PCA and LDA"
   ]
  },
  {
   "cell_type": "code",
   "execution_count": 8,
   "metadata": {},
   "outputs": [
    {
     "data": {
      "text/plain": [
       "58.113519796212096"
      ]
     },
     "execution_count": 8,
     "metadata": {},
     "output_type": "execute_result"
    }
   ],
   "source": [
    "def evaluate_pca(visual_words_train, visual_words_test,n_components=64,n_neighbors=5,metric='euclidean', cross_val = True):\n",
    "    if not cross_val:\n",
    "        pca = PCA(n_components=n_components)\n",
    "        VWpca = pca.fit_transform(visual_words_train)\n",
    "        knnpca = KNeighborsClassifier(n_neighbors=n_neighbors,n_jobs=-1,metric=metric)\n",
    "        knnpca.fit(VWpca, train_labels) \n",
    "        vwtestpca = pca.transform(visual_words_test)\n",
    "        accuracy = 100*knnpca.score(vwtestpca, test_labels)\n",
    "        return accuracy\n",
    "    \n",
    "    kf = KFold(n_splits=5, random_state=42, shuffle=True)\n",
    "    accuracy = 0\n",
    "    \n",
    "    for train_index, test_index in kf.split(visual_words_train):\n",
    "        X_train, X_test = visual_words_train[train_index], visual_words_train[test_index]\n",
    "        y_train, y_test = np.array(train_labels)[train_index.astype(int)], np.array(train_labels)[test_index.astype(int)]   \n",
    "        X_test, y_test = np.concatenate((X_test,visual_words_test)), np.concatenate((y_test,test_labels))\n",
    "        pca = PCA(n_components=n_components)\n",
    "        VWpca = pca.fit_transform(X_train)\n",
    "        knnpca = KNeighborsClassifier(n_neighbors=n_neighbors,n_jobs=-1,metric=metric)\n",
    "        knnpca.fit(VWpca, y_train)\n",
    "        vwtestpca = pca.transform(X_test)\n",
    "        accuracy += 100*knnpca.score(vwtestpca, y_test)\n",
    "        \n",
    "    \n",
    "    return accuracy/5\n",
    "\n",
    "evaluate_pca(visual_words_train, visual_words_test,n_components=64,n_neighbors=5,metric='euclidean')"
   ]
  },
  {
   "cell_type": "code",
   "execution_count": 9,
   "metadata": {},
   "outputs": [
    {
     "data": {
      "text/plain": [
       "63.79300792762331"
      ]
     },
     "execution_count": 9,
     "metadata": {},
     "output_type": "execute_result"
    }
   ],
   "source": [
    "def evaluate_lda(visual_words_train, visual_words_test,n_components=7,n_neighbors=5,metric='euclidean', cross_val = True):\n",
    "    if not cross_val:\n",
    "        lda = LinearDiscriminantAnalysis(n_components=n_components)\n",
    "        VWlda = lda.fit_transform(visual_words_train,train_labels)\n",
    "        knnlda = KNeighborsClassifier(n_neighbors=5,n_jobs=-1,metric='euclidean')\n",
    "        knnlda.fit(VWlda, train_labels) \n",
    "        vwtestlda = lda.transform(visual_words_test)\n",
    "        accuracy = 100*knnlda.score(vwtestlda, test_labels)\n",
    "        return accuracy\n",
    "    \n",
    "    kf = KFold(n_splits=5, random_state=42, shuffle=True)\n",
    "    accuracy = 0\n",
    "    \n",
    "    for train_index, test_index in kf.split(visual_words_train):\n",
    "        X_train, X_test = visual_words_train[train_index], visual_words_train[test_index]\n",
    "        y_train, y_test = np.array(train_labels)[train_index.astype(int)], np.array(train_labels)[test_index.astype(int)]   \n",
    "        X_test, y_test = np.concatenate((X_test,visual_words_test)), np.concatenate((y_test,test_labels))\n",
    "        lda = LinearDiscriminantAnalysis(n_components=n_components)\n",
    "        VWlda = lda.fit_transform(X_train ,y_train)\n",
    "        knnlda = KNeighborsClassifier(n_neighbors=n_neighbors,n_jobs=-1,metric=metric)\n",
    "        knnlda.fit(VWlda, y_train)\n",
    "        vwtestlda = lda.transform(X_test)\n",
    "        accuracy += 100*knnlda.score(vwtestlda, y_test)\n",
    "        \n",
    "    \n",
    "    return accuracy/5\n",
    "    \n",
    "evaluate_lda(visual_words_train, visual_words_test,n_components=7,n_neighbors=5,metric='euclidean')"
   ]
  },
  {
   "cell_type": "markdown",
   "metadata": {},
   "source": [
    "# SIFT with different amount of local features"
   ]
  },
  {
   "cell_type": "code",
   "execution_count": 10,
   "metadata": {},
   "outputs": [
    {
     "name": "stdout",
     "output_type": "stream",
     "text": [
      "Evaluating SIFT with 100 features\n",
      "--------------------------------------------------\n",
      "Evaluating SIFT with 500 features\n",
      "--------------------------------------------------\n",
      "Evaluating SIFT with 1000 features\n",
      "--------------------------------------------------\n",
      "Evaluating SIFT with 2500 features\n",
      "--------------------------------------------------\n",
      "Evaluating SIFT with 5000 features\n",
      "--------------------------------------------------\n",
      "Evaluating SIFT with 10000 features\n",
      "--------------------------------------------------\n"
     ]
    }
   ],
   "source": [
    "def evaluate_SIFT(nfeatures=1000,k=128):\n",
    "    print(\"Evaluating SIFT with {} features\".format(nfeatures))\n",
    "    print(50*\"-\")\n",
    "    detector = cv2.xfeatures2d.SIFT_create(nfeatures=nfeatures)\n",
    "    train_descriptors_np, train_descriptors, train_label_per_descriptor = get_SIFT_descriptors(detector, train_images_filenames, train_labels)\n",
    "    test_descriptors_np, test_descriptors, test_label_per_descriptor = get_SIFT_descriptors(detector, test_images_filenames, test_labels)\n",
    "\n",
    "    words_train, visual_words_train = get_visual_words(train_descriptors,train_descriptors_np,codebook,k)\n",
    "    words_test, visual_words_test = get_visual_words(test_descriptors,test_descriptors_np,codebook,k,test=True)\n",
    "\n",
    "    knn_acc = evaluate_knn(visual_words_train, visual_words_test, n_neighbors=5, metric='euclidean')\n",
    "    pca_acc = evaluate_pca(visual_words_train, visual_words_test, n_components=64,n_neighbors=5,metric='euclidean')\n",
    "    lda_acc = evaluate_lda(visual_words_train, visual_words_test, n_components=7,n_neighbors=5,metric='euclidean')\n",
    "    return [knn_acc,pca_acc,lda_acc]\n",
    "    \n",
    "\n",
    "\n",
    "opt = [100, 500, 1000, 2500, 5000, 10000]\n",
    "\n",
    "results = {}\n",
    "\n",
    "for n in opt:   \n",
    "    results[str(n)+\" features\"] = evaluate_SIFT(nfeatures=n)"
   ]
  },
  {
   "cell_type": "code",
   "execution_count": 11,
   "metadata": {},
   "outputs": [
    {
     "data": {
      "text/html": [
       "<div>\n",
       "<style scoped>\n",
       "    .dataframe tbody tr th:only-of-type {\n",
       "        vertical-align: middle;\n",
       "    }\n",
       "\n",
       "    .dataframe tbody tr th {\n",
       "        vertical-align: top;\n",
       "    }\n",
       "\n",
       "    .dataframe thead th {\n",
       "        text-align: right;\n",
       "    }\n",
       "</style>\n",
       "<table border=\"1\" class=\"dataframe\">\n",
       "  <thead>\n",
       "    <tr style=\"text-align: right;\">\n",
       "      <th></th>\n",
       "      <th>KNN</th>\n",
       "      <th>KNN-PCA</th>\n",
       "      <th>KNN-LDA</th>\n",
       "    </tr>\n",
       "  </thead>\n",
       "  <tbody>\n",
       "    <tr>\n",
       "      <th>100 features</th>\n",
       "      <td>41.075198</td>\n",
       "      <td>37.457706</td>\n",
       "      <td>46.348681</td>\n",
       "    </tr>\n",
       "    <tr>\n",
       "      <th>500 features</th>\n",
       "      <td>57.166988</td>\n",
       "      <td>57.792474</td>\n",
       "      <td>60.851734</td>\n",
       "    </tr>\n",
       "    <tr>\n",
       "      <th>1000 features</th>\n",
       "      <td>57.623141</td>\n",
       "      <td>59.364377</td>\n",
       "      <td>61.629475</td>\n",
       "    </tr>\n",
       "    <tr>\n",
       "      <th>2500 features</th>\n",
       "      <td>58.569886</td>\n",
       "      <td>58.874340</td>\n",
       "      <td>61.358805</td>\n",
       "    </tr>\n",
       "    <tr>\n",
       "      <th>5000 features</th>\n",
       "      <td>58.569886</td>\n",
       "      <td>58.772903</td>\n",
       "      <td>61.358805</td>\n",
       "    </tr>\n",
       "    <tr>\n",
       "      <th>10000 features</th>\n",
       "      <td>58.569886</td>\n",
       "      <td>58.637668</td>\n",
       "      <td>61.358805</td>\n",
       "    </tr>\n",
       "  </tbody>\n",
       "</table>\n",
       "</div>"
      ],
      "text/plain": [
       "                      KNN    KNN-PCA    KNN-LDA\n",
       "100 features    41.075198  37.457706  46.348681\n",
       "500 features    57.166988  57.792474  60.851734\n",
       "1000 features   57.623141  59.364377  61.629475\n",
       "2500 features   58.569886  58.874340  61.358805\n",
       "5000 features   58.569886  58.772903  61.358805\n",
       "10000 features  58.569886  58.637668  61.358805"
      ]
     },
     "execution_count": 11,
     "metadata": {},
     "output_type": "execute_result"
    }
   ],
   "source": [
    "import matplotlib.pyplot as plt\n",
    "\n",
    "df = pd.DataFrame.from_dict(results, orient='index')\n",
    "df.columns = [\"KNN\", \"KNN-PCA\", \"KNN-LDA\"]\n",
    "df"
   ]
  },
  {
   "cell_type": "code",
   "execution_count": 12,
   "metadata": {},
   "outputs": [
    {
     "data": {
      "text/plain": [
       "<AxesSubplot:>"
      ]
     },
     "execution_count": 12,
     "metadata": {},
     "output_type": "execute_result"
    },
    {
     "data": {
      "image/png": "[encoded data removed]",
      "text/plain": [
       "<Figure size 720x720 with 1 Axes>"
      ]
     },
     "metadata": {
      "needs_background": "light"
     },
     "output_type": "display_data"
    }
   ],
   "source": [
    "df.plot(kind=\"bar\",figsize=(10,10), rot=0)"
   ]
  },
  {
   "cell_type": "markdown",
   "metadata": {},
   "source": [
    "When augmenting the number of features used to produce de BoVW we obtain better results overall until a certain precission is reached when using more features doesn't get better precission. In the case of KNN used with PCA we can observe that the precission even get worse when using more features as it may be reducing the dimensionality of the feature space using directions that are not useful to the clasification. "
   ]
  },
  {
   "cell_type": "markdown",
   "metadata": {},
   "source": [
    "# Try Dense SIFT"
   ]
  },
  {
   "cell_type": "code",
   "execution_count": 13,
   "metadata": {},
   "outputs": [],
   "source": [
    "def get_dense_SIFT_features(images, lbls, nfeatures=5000):\n",
    "    descriptors = []\n",
    "    label_per_descriptor = []\n",
    "    descriptors_np = None\n",
    "    sift = cv2.xfeatures2d.SIFT_create(nfeatures=nfeatures)\n",
    "    \n",
    "    for filename, labels in zip(images,lbls):\n",
    "        ima = cv2.imread(filename)\n",
    "        gray = cv2.cvtColor(ima, cv2.COLOR_BGR2GRAY)\n",
    "        step_size = 5\n",
    "        kp = [cv2.KeyPoint(x, y, step_size) for y in range(0, gray.shape[0], step_size) \n",
    "                                        for x in range(0, gray.shape[1], step_size)]\n",
    "        \n",
    "        kp, des = sift.compute(gray, kp)\n",
    "        descriptors.append(des)\n",
    "        label_per_descriptor.append(labels)\n",
    "    \n",
    "    descriptors_np = np.vstack(descriptors)\n",
    "\n",
    "    \n",
    "    return descriptors_np, descriptors, label_per_descriptor"
   ]
  },
  {
   "cell_type": "code",
   "execution_count": 14,
   "metadata": {},
   "outputs": [],
   "source": [
    "def evaluate_dense_SIFT(nfeatures=5000, k=128):\n",
    "    print(\"Evaluating Dense SIFT with {} features\".format(nfeatures))\n",
    "    print(50*\"-\")\n",
    "    train_descriptors_np, train_descriptors, train_label_per_descriptor = get_dense_SIFT_features(train_images_filenames, train_labels, nfeatures)\n",
    "    test_descriptors_np, test_descriptors, test_label_per_descriptor = get_dense_SIFT_features(test_images_filenames, test_labels, nfeatures)\n",
    "\n",
    "    words_train, visual_words_train = get_visual_words(train_descriptors,train_descriptors_np,codebook,k)\n",
    "    words_test, visual_words_test = get_visual_words(test_descriptors,test_descriptors_np,codebook,k,test=True)\n",
    "\n",
    "    knn_acc = evaluate_knn(visual_words_train, visual_words_test, n_neighbors=5, metric='euclidean')\n",
    "    pca_acc = evaluate_pca(visual_words_train, visual_words_test, n_components=64,n_neighbors=5,metric='euclidean')\n",
    "    lda_acc = evaluate_lda(visual_words_train, visual_words_test, n_components=7,n_neighbors=5,metric='euclidean')\n",
    "    return [knn_acc,pca_acc,lda_acc]"
   ]
  },
  {
   "cell_type": "code",
   "execution_count": 15,
   "metadata": {},
   "outputs": [
    {
     "name": "stdout",
     "output_type": "stream",
     "text": [
      "Evaluating Dense SIFT with 5000 features\n",
      "--------------------------------------------------\n",
      "Evaluating SIFT with 5000 features\n",
      "--------------------------------------------------\n"
     ]
    },
    {
     "data": {
      "text/html": [
       "<div>\n",
       "<style scoped>\n",
       "    .dataframe tbody tr th:only-of-type {\n",
       "        vertical-align: middle;\n",
       "    }\n",
       "\n",
       "    .dataframe tbody tr th {\n",
       "        vertical-align: top;\n",
       "    }\n",
       "\n",
       "    .dataframe thead th {\n",
       "        text-align: right;\n",
       "    }\n",
       "</style>\n",
       "<table border=\"1\" class=\"dataframe\">\n",
       "  <thead>\n",
       "    <tr style=\"text-align: right;\">\n",
       "      <th></th>\n",
       "      <th>KNN</th>\n",
       "      <th>KNN-PCA</th>\n",
       "      <th>KNN-LDA</th>\n",
       "    </tr>\n",
       "  </thead>\n",
       "  <tbody>\n",
       "    <tr>\n",
       "      <th>Dense SIFT</th>\n",
       "      <td>70.571383</td>\n",
       "      <td>71.010829</td>\n",
       "      <td>79.428560</td>\n",
       "    </tr>\n",
       "    <tr>\n",
       "      <th>SIFT</th>\n",
       "      <td>58.569886</td>\n",
       "      <td>58.772889</td>\n",
       "      <td>61.358805</td>\n",
       "    </tr>\n",
       "  </tbody>\n",
       "</table>\n",
       "</div>"
      ],
      "text/plain": [
       "                  KNN    KNN-PCA    KNN-LDA\n",
       "Dense SIFT  70.571383  71.010829  79.428560\n",
       "SIFT        58.569886  58.772889  61.358805"
      ]
     },
     "execution_count": 15,
     "metadata": {},
     "output_type": "execute_result"
    }
   ],
   "source": [
    "results_keys = [\"Dense SIFT\", \"SIFT\"]\n",
    "results_list = [evaluate_dense_SIFT(nfeatures=5000), evaluate_SIFT(nfeatures=5000)]\n",
    "results = dict(zip(results_keys,results_list))\n",
    "df = pd.DataFrame.from_dict(results, orient='index')\n",
    "df.columns = [\"KNN\", \"KNN-PCA\", \"KNN-LDA\"]\n",
    "df"
   ]
  },
  {
   "cell_type": "code",
   "execution_count": 16,
   "metadata": {},
   "outputs": [
    {
     "data": {
      "text/plain": [
       "<AxesSubplot:>"
      ]
     },
     "execution_count": 16,
     "metadata": {},
     "output_type": "execute_result"
    },
    {
     "data": {
      "image/png": "[encoded data removed]",
      "text/plain": [
       "<Figure size 720x720 with 1 Axes>"
      ]
     },
     "metadata": {
      "needs_background": "light"
     },
     "output_type": "display_data"
    }
   ],
   "source": [
    "df.plot(kind=\"bar\",figsize=(10,10), rot=0)"
   ]
  },
  {
   "cell_type": "markdown",
   "metadata": {},
   "source": [
    "When using Dense sift we can observe significant better results at all the methods tested. Using local features obtained with a certain regularity in the image improves the performance of the BoVW. "
   ]
  },
  {
   "cell_type": "markdown",
   "metadata": {},
   "source": [
    "# Different codebook k sizes"
   ]
  },
  {
   "cell_type": "code",
   "execution_count": 17,
   "metadata": {},
   "outputs": [
    {
     "name": "stdout",
     "output_type": "stream",
     "text": [
      "Evaluating SIFT with 5000 features and k=32\n",
      "--------------------------------------------------\n",
      "Evaluating SIFT with 5000 features and k=64\n",
      "--------------------------------------------------\n",
      "Evaluating SIFT with 5000 features and k=128\n",
      "--------------------------------------------------\n",
      "Evaluating SIFT with 5000 features and k=256\n",
      "--------------------------------------------------\n",
      "Evaluating SIFT with 5000 features and k=512\n",
      "--------------------------------------------------\n",
      "Evaluating SIFT with 5000 features and k=1024\n",
      "--------------------------------------------------\n"
     ]
    }
   ],
   "source": [
    "def evaluate_SIFT_k_codebook(nfeatures=5000,k=128):\n",
    "    print(\"Evaluating SIFT with {} features and k={}\".format(nfeatures,k))\n",
    "    print(50*\"-\")\n",
    "    codebook = MiniBatchKMeans(n_clusters=k, verbose=False, batch_size=k * 20,compute_labels=False,reassignment_ratio=10**-4,random_state=42)\n",
    "    detector = cv2.xfeatures2d.SIFT_create(nfeatures=nfeatures)\n",
    "    train_descriptors_np, train_descriptors, train_label_per_descriptor = get_SIFT_descriptors(detector, train_images_filenames, train_labels)\n",
    "    test_descriptors_np, test_descriptors, test_label_per_descriptor = get_SIFT_descriptors(detector, test_images_filenames, test_labels)\n",
    "\n",
    "    words_train, visual_words_train = get_visual_words(train_descriptors,train_descriptors_np,codebook,k)\n",
    "    words_test, visual_words_test = get_visual_words(test_descriptors,test_descriptors_np,codebook,k,test=True)\n",
    "\n",
    "    knn_acc = evaluate_knn(visual_words_train, visual_words_test, n_neighbors=5, metric='euclidean')\n",
    "    pca_acc = evaluate_pca(visual_words_train, visual_words_test, n_components=int(k/2),n_neighbors=5,metric='euclidean')\n",
    "    lda_acc = evaluate_lda(visual_words_train, visual_words_test, n_components=7,n_neighbors=5,metric='euclidean')\n",
    "    return [knn_acc,pca_acc,lda_acc]\n",
    "    \n",
    "\n",
    "\n",
    "opt = [32, 64, 128, 256, 512, 1024]\n",
    "\n",
    "results = {}\n",
    "\n",
    "for n in opt:   \n",
    "    results[\"k = \"+str(n)] = evaluate_SIFT_k_codebook(nfeatures=5000, k=n)"
   ]
  },
  {
   "cell_type": "code",
   "execution_count": 18,
   "metadata": {},
   "outputs": [
    {
     "data": {
      "text/html": [
       "<div>\n",
       "<style scoped>\n",
       "    .dataframe tbody tr th:only-of-type {\n",
       "        vertical-align: middle;\n",
       "    }\n",
       "\n",
       "    .dataframe tbody tr th {\n",
       "        vertical-align: top;\n",
       "    }\n",
       "\n",
       "    .dataframe thead th {\n",
       "        text-align: right;\n",
       "    }\n",
       "</style>\n",
       "<table border=\"1\" class=\"dataframe\">\n",
       "  <thead>\n",
       "    <tr style=\"text-align: right;\">\n",
       "      <th></th>\n",
       "      <th>KNN</th>\n",
       "      <th>KNN-PCA</th>\n",
       "      <th>KNN-LDA</th>\n",
       "    </tr>\n",
       "  </thead>\n",
       "  <tbody>\n",
       "    <tr>\n",
       "      <th>k = 32</th>\n",
       "      <td>51.960816</td>\n",
       "      <td>51.859308</td>\n",
       "      <td>55.020362</td>\n",
       "    </tr>\n",
       "    <tr>\n",
       "      <th>k = 64</th>\n",
       "      <td>54.935874</td>\n",
       "      <td>54.902047</td>\n",
       "      <td>59.837978</td>\n",
       "    </tr>\n",
       "    <tr>\n",
       "      <th>k = 128</th>\n",
       "      <td>58.569886</td>\n",
       "      <td>58.874126</td>\n",
       "      <td>61.358805</td>\n",
       "    </tr>\n",
       "    <tr>\n",
       "      <th>k = 256</th>\n",
       "      <td>55.933066</td>\n",
       "      <td>57.352899</td>\n",
       "      <td>60.733362</td>\n",
       "    </tr>\n",
       "    <tr>\n",
       "      <th>k = 512</th>\n",
       "      <td>49.881785</td>\n",
       "      <td>54.225786</td>\n",
       "      <td>56.896561</td>\n",
       "    </tr>\n",
       "    <tr>\n",
       "      <th>k = 1024</th>\n",
       "      <td>36.038059</td>\n",
       "      <td>42.562727</td>\n",
       "      <td>42.934420</td>\n",
       "    </tr>\n",
       "  </tbody>\n",
       "</table>\n",
       "</div>"
      ],
      "text/plain": [
       "                KNN    KNN-PCA    KNN-LDA\n",
       "k = 32    51.960816  51.859308  55.020362\n",
       "k = 64    54.935874  54.902047  59.837978\n",
       "k = 128   58.569886  58.874126  61.358805\n",
       "k = 256   55.933066  57.352899  60.733362\n",
       "k = 512   49.881785  54.225786  56.896561\n",
       "k = 1024  36.038059  42.562727  42.934420"
      ]
     },
     "execution_count": 18,
     "metadata": {},
     "output_type": "execute_result"
    }
   ],
   "source": [
    "df = pd.DataFrame.from_dict(results, orient='index')\n",
    "df.columns = [\"KNN\", \"KNN-PCA\", \"KNN-LDA\"]\n",
    "df"
   ]
  },
  {
   "cell_type": "code",
   "execution_count": 19,
   "metadata": {},
   "outputs": [
    {
     "data": {
      "text/plain": [
       "<AxesSubplot:>"
      ]
     },
     "execution_count": 19,
     "metadata": {},
     "output_type": "execute_result"
    },
    {
     "data": {
      "image/png": "[encoded data removed]",
      "text/plain": [
       "<Figure size 720x720 with 1 Axes>"
      ]
     },
     "metadata": {
      "needs_background": "light"
     },
     "output_type": "display_data"
    }
   ],
   "source": [
    "df.plot(kind=\"bar\",figsize=(10,10), rot=0)"
   ]
  },
  {
   "cell_type": "markdown",
   "metadata": {},
   "source": [
    "When varying the codebook sizes the number of bins used to produce the histograms changes. In this test we observe that for the three methods when 128 was used as the codebook size the results were better."
   ]
  },
  {
   "cell_type": "markdown",
   "metadata": {},
   "source": [
    "# Different N_Neighbors for KNN"
   ]
  },
  {
   "cell_type": "code",
   "execution_count": 20,
   "metadata": {},
   "outputs": [
    {
     "name": "stdout",
     "output_type": "stream",
     "text": [
      "Evaluating SIFT with 5000 features and k=128 and n_neighbors=2\n",
      "--------------------------------------------------\n",
      "Evaluating SIFT with 5000 features and k=128 and n_neighbors=3\n",
      "--------------------------------------------------\n",
      "Evaluating SIFT with 5000 features and k=128 and n_neighbors=4\n",
      "--------------------------------------------------\n",
      "Evaluating SIFT with 5000 features and k=128 and n_neighbors=5\n",
      "--------------------------------------------------\n",
      "Evaluating SIFT with 5000 features and k=128 and n_neighbors=6\n",
      "--------------------------------------------------\n",
      "Evaluating SIFT with 5000 features and k=128 and n_neighbors=7\n",
      "--------------------------------------------------\n",
      "Evaluating SIFT with 5000 features and k=128 and n_neighbors=8\n",
      "--------------------------------------------------\n",
      "Evaluating SIFT with 5000 features and k=128 and n_neighbors=9\n",
      "--------------------------------------------------\n",
      "Evaluating SIFT with 5000 features and k=128 and n_neighbors=10\n",
      "--------------------------------------------------\n"
     ]
    }
   ],
   "source": [
    "def evaluate_SIFT_n_neighbors(nfeatures=5000,k=128,n_neighbors=5):\n",
    "    print(\"Evaluating SIFT with {} features and k={} and n_neighbors={}\".format(nfeatures,k, n_neighbors))\n",
    "    print(50*\"-\")\n",
    "    codebook = MiniBatchKMeans(n_clusters=k, verbose=False, batch_size=k * 20,compute_labels=False,reassignment_ratio=10**-4,random_state=42)\n",
    "    detector = cv2.xfeatures2d.SIFT_create(nfeatures=nfeatures)\n",
    "    train_descriptors_np, train_descriptors, train_label_per_descriptor = get_SIFT_descriptors(detector, train_images_filenames, train_labels)\n",
    "    test_descriptors_np, test_descriptors, test_label_per_descriptor = get_SIFT_descriptors(detector, test_images_filenames, test_labels)\n",
    "\n",
    "    words_train, visual_words_train = get_visual_words(train_descriptors,train_descriptors_np,codebook,k)\n",
    "    words_test, visual_words_test = get_visual_words(test_descriptors,test_descriptors_np,codebook,k,test=True)\n",
    "\n",
    "    knn_acc = evaluate_knn(visual_words_train, visual_words_test, n_neighbors=n_neighbors, metric='euclidean')\n",
    "    pca_acc = evaluate_pca(visual_words_train, visual_words_test, n_components=int(k/2),n_neighbors=n_neighbors,metric='euclidean')\n",
    "    lda_acc = evaluate_lda(visual_words_train, visual_words_test, n_components=7,n_neighbors=n_neighbors,metric='euclidean')\n",
    "    return [knn_acc,pca_acc,lda_acc]\n",
    "    \n",
    "\n",
    "\n",
    "opt = [2, 3, 4, 5, 6, 7, 8, 9, 10]\n",
    "\n",
    "results = {}\n",
    "\n",
    "for n in opt:   \n",
    "    results[\"n = \"+str(n)] = evaluate_SIFT_n_neighbors(nfeatures=5000, k=128, n_neighbors=n)"
   ]
  },
  {
   "cell_type": "code",
   "execution_count": 21,
   "metadata": {},
   "outputs": [
    {
     "data": {
      "text/html": [
       "<div>\n",
       "<style scoped>\n",
       "    .dataframe tbody tr th:only-of-type {\n",
       "        vertical-align: middle;\n",
       "    }\n",
       "\n",
       "    .dataframe tbody tr th {\n",
       "        vertical-align: top;\n",
       "    }\n",
       "\n",
       "    .dataframe thead th {\n",
       "        text-align: right;\n",
       "    }\n",
       "</style>\n",
       "<table border=\"1\" class=\"dataframe\">\n",
       "  <thead>\n",
       "    <tr style=\"text-align: right;\">\n",
       "      <th></th>\n",
       "      <th>KNN</th>\n",
       "      <th>KNN-PCA</th>\n",
       "      <th>KNN-LDA</th>\n",
       "    </tr>\n",
       "  </thead>\n",
       "  <tbody>\n",
       "    <tr>\n",
       "      <th>n = 2</th>\n",
       "      <td>51.419976</td>\n",
       "      <td>52.637034</td>\n",
       "      <td>54.715993</td>\n",
       "    </tr>\n",
       "    <tr>\n",
       "      <th>n = 3</th>\n",
       "      <td>56.592221</td>\n",
       "      <td>57.386597</td>\n",
       "      <td>59.381297</td>\n",
       "    </tr>\n",
       "    <tr>\n",
       "      <th>n = 4</th>\n",
       "      <td>57.302295</td>\n",
       "      <td>58.299459</td>\n",
       "      <td>60.462935</td>\n",
       "    </tr>\n",
       "    <tr>\n",
       "      <th>n = 5</th>\n",
       "      <td>58.569886</td>\n",
       "      <td>58.924887</td>\n",
       "      <td>61.358805</td>\n",
       "    </tr>\n",
       "    <tr>\n",
       "      <th>n = 6</th>\n",
       "      <td>59.263011</td>\n",
       "      <td>59.094049</td>\n",
       "      <td>61.696843</td>\n",
       "    </tr>\n",
       "    <tr>\n",
       "      <th>n = 7</th>\n",
       "      <td>59.059994</td>\n",
       "      <td>59.448879</td>\n",
       "      <td>62.119511</td>\n",
       "    </tr>\n",
       "    <tr>\n",
       "      <th>n = 8</th>\n",
       "      <td>59.550302</td>\n",
       "      <td>59.736427</td>\n",
       "      <td>62.254761</td>\n",
       "    </tr>\n",
       "    <tr>\n",
       "      <th>n = 9</th>\n",
       "      <td>59.246076</td>\n",
       "      <td>59.449093</td>\n",
       "      <td>62.220920</td>\n",
       "    </tr>\n",
       "    <tr>\n",
       "      <th>n = 10</th>\n",
       "      <td>59.313644</td>\n",
       "      <td>60.124983</td>\n",
       "      <td>62.626696</td>\n",
       "    </tr>\n",
       "  </tbody>\n",
       "</table>\n",
       "</div>"
      ],
      "text/plain": [
       "              KNN    KNN-PCA    KNN-LDA\n",
       "n = 2   51.419976  52.637034  54.715993\n",
       "n = 3   56.592221  57.386597  59.381297\n",
       "n = 4   57.302295  58.299459  60.462935\n",
       "n = 5   58.569886  58.924887  61.358805\n",
       "n = 6   59.263011  59.094049  61.696843\n",
       "n = 7   59.059994  59.448879  62.119511\n",
       "n = 8   59.550302  59.736427  62.254761\n",
       "n = 9   59.246076  59.449093  62.220920\n",
       "n = 10  59.313644  60.124983  62.626696"
      ]
     },
     "execution_count": 21,
     "metadata": {},
     "output_type": "execute_result"
    }
   ],
   "source": [
    "df = pd.DataFrame.from_dict(results, orient='index')\n",
    "df.columns = [\"KNN\", \"KNN-PCA\", \"KNN-LDA\"]\n",
    "df"
   ]
  },
  {
   "cell_type": "code",
   "execution_count": 22,
   "metadata": {},
   "outputs": [
    {
     "data": {
      "text/plain": [
       "<AxesSubplot:>"
      ]
     },
     "execution_count": 22,
     "metadata": {},
     "output_type": "execute_result"
    },
    {
     "data": {
      "image/png": "[encoded data removed]",
      "text/plain": [
       "<Figure size 720x720 with 1 Axes>"
      ]
     },
     "metadata": {
      "needs_background": "light"
     },
     "output_type": "display_data"
    }
   ],
   "source": [
    "df.plot(kind=\"bar\",figsize=(10,10), rot=0)"
   ]
  },
  {
   "cell_type": "markdown",
   "metadata": {},
   "source": [
    "When varying this parameter we can observe that the perform of all the methods gets better as the number of neighbours taken into account to determine the label of the image is bigger. "
   ]
  },
  {
   "cell_type": "markdown",
   "metadata": {},
   "source": [
    "# Different Metrics for KNN"
   ]
  },
  {
   "cell_type": "code",
   "execution_count": 26,
   "metadata": {},
   "outputs": [
    {
     "name": "stdout",
     "output_type": "stream",
     "text": [
      "Evaluating SIFT with 5000 features and k=128 and n_neighbors=5 and metric=euclidean\n",
      "--------------------------------------------------\n",
      "Evaluating SIFT with 5000 features and k=128 and n_neighbors=5 and metric=manhattan\n",
      "--------------------------------------------------\n",
      "Evaluating SIFT with 5000 features and k=128 and n_neighbors=5 and metric=chebyshev\n",
      "--------------------------------------------------\n",
      "Evaluating SIFT with 5000 features and k=128 and n_neighbors=5 and metric=minkowski\n",
      "--------------------------------------------------\n"
     ]
    }
   ],
   "source": [
    "def evaluate_SIFT_knn_metric(nfeatures=5000,k=128,n_neighbors=5, metric=\"euclidean\", cross_val=True):\n",
    "    print(\"Evaluating SIFT with {} features and k={} and n_neighbors={} and metric={}\".format(nfeatures,k, n_neighbors, metric))\n",
    "    print(50*\"-\")\n",
    "    codebook = MiniBatchKMeans(n_clusters=k, verbose=False, batch_size=k * 20,compute_labels=False,reassignment_ratio=10**-4,random_state=42)\n",
    "    detector = cv2.xfeatures2d.SIFT_create(nfeatures=nfeatures)\n",
    "    train_descriptors_np, train_descriptors, train_label_per_descriptor = get_SIFT_descriptors(detector, train_images_filenames, train_labels)\n",
    "    test_descriptors_np, test_descriptors, test_label_per_descriptor = get_SIFT_descriptors(detector, test_images_filenames, test_labels)\n",
    "\n",
    "    words_train, visual_words_train = get_visual_words(train_descriptors,train_descriptors_np,codebook,k)\n",
    "    words_test, visual_words_test = get_visual_words(test_descriptors,test_descriptors_np,codebook,k,test=True)\n",
    "\n",
    "    knn_acc = evaluate_knn(visual_words_train, visual_words_test, n_neighbors=n_neighbors, metric=metric, cross_val=cross_val)\n",
    "    pca_acc = evaluate_pca(visual_words_train, visual_words_test, n_components=int(k/2),n_neighbors=n_neighbors,metric=metric, cross_val=cross_val)\n",
    "    lda_acc = evaluate_lda(visual_words_train, visual_words_test, n_components=7,n_neighbors=n_neighbors,metric=metric, cross_val=cross_val)\n",
    "    return [knn_acc,pca_acc,lda_acc]\n",
    "    \n",
    "\n",
    "\n",
    "    \n",
    "cross_val = True\n",
    "opt = [\"euclidean\",\"manhattan\",\"chebyshev\",\"minkowski\",\"seuclidean\",\"mahalanobis\"]\n",
    "\n",
    "if cross_val:\n",
    "    opt.remove(\"seuclidean\")\n",
    "    opt.remove(\"mahalanobis\")\n",
    "\n",
    "results = {}\n",
    "\n",
    "for n in opt:   \n",
    "    results[str(n)] = evaluate_SIFT_knn_metric(nfeatures=5000, k=128, n_neighbors=5, metric=n, cross_val=cross_val)"
   ]
  },
  {
   "cell_type": "code",
   "execution_count": 27,
   "metadata": {},
   "outputs": [
    {
     "data": {
      "text/html": [
       "<div>\n",
       "<style scoped>\n",
       "    .dataframe tbody tr th:only-of-type {\n",
       "        vertical-align: middle;\n",
       "    }\n",
       "\n",
       "    .dataframe tbody tr th {\n",
       "        vertical-align: top;\n",
       "    }\n",
       "\n",
       "    .dataframe thead th {\n",
       "        text-align: right;\n",
       "    }\n",
       "</style>\n",
       "<table border=\"1\" class=\"dataframe\">\n",
       "  <thead>\n",
       "    <tr style=\"text-align: right;\">\n",
       "      <th></th>\n",
       "      <th>KNN</th>\n",
       "      <th>KNN-PCA</th>\n",
       "      <th>KNN-LDA</th>\n",
       "    </tr>\n",
       "  </thead>\n",
       "  <tbody>\n",
       "    <tr>\n",
       "      <th>euclidean</th>\n",
       "      <td>58.569886</td>\n",
       "      <td>59.347556</td>\n",
       "      <td>61.358805</td>\n",
       "    </tr>\n",
       "    <tr>\n",
       "      <th>manhattan</th>\n",
       "      <td>55.966993</td>\n",
       "      <td>56.389547</td>\n",
       "      <td>60.767232</td>\n",
       "    </tr>\n",
       "    <tr>\n",
       "      <th>chebyshev</th>\n",
       "      <td>47.582689</td>\n",
       "      <td>56.541589</td>\n",
       "      <td>60.902595</td>\n",
       "    </tr>\n",
       "    <tr>\n",
       "      <th>minkowski</th>\n",
       "      <td>58.569886</td>\n",
       "      <td>59.296952</td>\n",
       "      <td>61.358805</td>\n",
       "    </tr>\n",
       "  </tbody>\n",
       "</table>\n",
       "</div>"
      ],
      "text/plain": [
       "                 KNN    KNN-PCA    KNN-LDA\n",
       "euclidean  58.569886  59.347556  61.358805\n",
       "manhattan  55.966993  56.389547  60.767232\n",
       "chebyshev  47.582689  56.541589  60.902595\n",
       "minkowski  58.569886  59.296952  61.358805"
      ]
     },
     "execution_count": 27,
     "metadata": {},
     "output_type": "execute_result"
    }
   ],
   "source": [
    "df = pd.DataFrame.from_dict(results, orient='index')\n",
    "df.columns = [\"KNN\", \"KNN-PCA\", \"KNN-LDA\"]\n",
    "df"
   ]
  },
  {
   "cell_type": "code",
   "execution_count": 28,
   "metadata": {},
   "outputs": [
    {
     "data": {
      "text/plain": [
       "<AxesSubplot:>"
      ]
     },
     "execution_count": 28,
     "metadata": {},
     "output_type": "execute_result"
    },
    {
     "data": {
      "image/png": "[encoded data removed]",
      "text/plain": [
       "<Figure size 720x720 with 1 Axes>"
      ]
     },
     "metadata": {
      "needs_background": "light"
     },
     "output_type": "display_data"
    }
   ],
   "source": [
    "df.plot(kind=\"bar\",figsize=(10,10), rot=0)"
   ]
  },
  {
   "cell_type": "markdown",
   "metadata": {},
   "source": [
    "The methods perform differently depending on the metric used to determine the distance of the features. Euclidean and minkowski metrics are the best ones and have very similar performances in the three methods. When using the chebyshev metric the results get significantly worse with the KNN without any reduction of the dimensions being the most affected by it. On the other hand KNN with LDA doesn't vary a lot from the rest of the metrics. For the KNN with PCA the manhattan and chebyshev metrics get worse results. The metric changes how the distance between the points at the feature space are being calculated woth respect to the point to be labelled. This affects directly to which points will be the closest to the points to be classified and affects the final result.  "
   ]
  },
  {
   "cell_type": "markdown",
   "metadata": {},
   "source": [
    "# Reducing Dimensionality"
   ]
  },
  {
   "cell_type": "code",
   "execution_count": 36,
   "metadata": {},
   "outputs": [
    {
     "name": "stdout",
     "output_type": "stream",
     "text": [
      "Evaluating SIFT with 5000 features and k=128 and n_neighbors=5 and metric=euclidean and pca=8 and lda=3\n",
      "--------------------------------------------------\n",
      "Evaluating SIFT with 5000 features and k=128 and n_neighbors=5 and metric=euclidean and pca=16 and lda=5\n",
      "--------------------------------------------------\n",
      "Evaluating SIFT with 5000 features and k=128 and n_neighbors=5 and metric=euclidean and pca=32 and lda=7\n",
      "--------------------------------------------------\n"
     ]
    }
   ],
   "source": [
    "def evaluate_SIFT_dimensionality(nfeatures=5000,k=128,n_neighbors=5, metric=\"euclidean\", pca=64, lda=7, cross_val=True):\n",
    "    print(\"Evaluating SIFT with {} features and k={} and n_neighbors={} and metric={} and pca={} and lda={}\".format(nfeatures,k, n_neighbors, metric, pca, lda))\n",
    "    print(50*\"-\")\n",
    "    codebook = MiniBatchKMeans(n_clusters=k, verbose=False, batch_size=k * 20,compute_labels=False,reassignment_ratio=10**-4,random_state=42)\n",
    "    detector = cv2.xfeatures2d.SIFT_create(nfeatures=nfeatures)\n",
    "    train_descriptors_np, train_descriptors, train_label_per_descriptor = get_SIFT_descriptors(detector, train_images_filenames, train_labels)\n",
    "    test_descriptors_np, test_descriptors, test_label_per_descriptor = get_SIFT_descriptors(detector, test_images_filenames, test_labels)\n",
    "\n",
    "    words_train, visual_words_train = get_visual_words(train_descriptors,train_descriptors_np,codebook,k)\n",
    "    words_test, visual_words_test = get_visual_words(test_descriptors,test_descriptors_np,codebook,k,test=True)\n",
    "\n",
    "    pca_acc = evaluate_pca(visual_words_train, visual_words_test, n_components=int(pca),n_neighbors=n_neighbors,metric=metric,cross_val=cross_val)\n",
    "    lda_acc = evaluate_lda(visual_words_train, visual_words_test, n_components=int(lda),n_neighbors=n_neighbors,metric=metric,cross_val=cross_val)\n",
    "    return [pca_acc,lda_acc]\n",
    "    \n",
    "\n",
    "\n",
    "cross_val = True\n",
    "opt = [(8,3),(16, 5),(32, 7),(64, 9),(96, 11), (128, 13)]\n",
    "\n",
    "if cross_val:\n",
    "    opt = opt[:-3]\n",
    "\n",
    "results = {}\n",
    "\n",
    "for n1,n2 in opt:   \n",
    "    results[\"pca=\"+str(n1)+\" lda=\"+str(n2)] = evaluate_SIFT_dimensionality(nfeatures=5000,k=128, n_neighbors=5, metric=\"euclidean\", pca=n1, lda=n2, cross_val=cross_val)"
   ]
  },
  {
   "cell_type": "code",
   "execution_count": 37,
   "metadata": {},
   "outputs": [
    {
     "data": {
      "text/html": [
       "<div>\n",
       "<style scoped>\n",
       "    .dataframe tbody tr th:only-of-type {\n",
       "        vertical-align: middle;\n",
       "    }\n",
       "\n",
       "    .dataframe tbody tr th {\n",
       "        vertical-align: top;\n",
       "    }\n",
       "\n",
       "    .dataframe thead th {\n",
       "        text-align: right;\n",
       "    }\n",
       "</style>\n",
       "<table border=\"1\" class=\"dataframe\">\n",
       "  <thead>\n",
       "    <tr style=\"text-align: right;\">\n",
       "      <th></th>\n",
       "      <th>KNN-PCA</th>\n",
       "      <th>KNN-LDA</th>\n",
       "    </tr>\n",
       "  </thead>\n",
       "  <tbody>\n",
       "    <tr>\n",
       "      <th>pca=8 lda=3</th>\n",
       "      <td>56.964200</td>\n",
       "      <td>52.434289</td>\n",
       "    </tr>\n",
       "    <tr>\n",
       "      <th>pca=16 lda=5</th>\n",
       "      <td>60.818122</td>\n",
       "      <td>59.584200</td>\n",
       "    </tr>\n",
       "    <tr>\n",
       "      <th>pca=32 lda=7</th>\n",
       "      <td>59.465771</td>\n",
       "      <td>61.358805</td>\n",
       "    </tr>\n",
       "  </tbody>\n",
       "</table>\n",
       "</div>"
      ],
      "text/plain": [
       "                KNN-PCA    KNN-LDA\n",
       "pca=8 lda=3   56.964200  52.434289\n",
       "pca=16 lda=5  60.818122  59.584200\n",
       "pca=32 lda=7  59.465771  61.358805"
      ]
     },
     "execution_count": 37,
     "metadata": {},
     "output_type": "execute_result"
    }
   ],
   "source": [
    "df = pd.DataFrame.from_dict(results, orient='index')\n",
    "df.columns = [\"KNN-PCA\", \"KNN-LDA\"]\n",
    "df"
   ]
  },
  {
   "cell_type": "code",
   "execution_count": 38,
   "metadata": {},
   "outputs": [
    {
     "data": {
      "text/plain": [
       "<AxesSubplot:>"
      ]
     },
     "execution_count": 38,
     "metadata": {},
     "output_type": "execute_result"
    },
    {
     "data": {
      "image/png": "[encoded data removed]",
      "text/plain": [
       "<Figure size 720x720 with 1 Axes>"
      ]
     },
     "metadata": {
      "needs_background": "light"
     },
     "output_type": "display_data"
    }
   ],
   "source": [
    "df.plot(kind=\"bar\", figsize=(10,10), rot=0)"
   ]
  },
  {
   "cell_type": "markdown",
   "metadata": {},
   "source": [
    "At both methods we can observe that performing a dimension reduction that uses not enough dimensions can have a negative impact in the performance. As too few dimensions are being used the algorithms are not capable to keep the important information to produce the label classification afterwards. "
   ]
  }
 ],
 "metadata": {
  "interpreter": {
   "hash": "c4510ae2205fc661e79c1256e94d74e13c5222290d1a25941673cb48af3ea7c0"
  },
  "kernelspec": {
   "display_name": "Python 3",
   "language": "python",
   "name": "python3"
  },
  "language_info": {
   "codemirror_mode": {
    "name": "ipython",
    "version": 3
   },
   "file_extension": ".py",
   "mimetype": "text/x-python",
   "name": "python",
   "nbconvert_exporter": "python",
   "pygments_lexer": "ipython3",
   "version": "3.8.3"
  }
 },
 "nbformat": 4,
 "nbformat_minor": 2
}
